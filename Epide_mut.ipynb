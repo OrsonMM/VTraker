{
  "nbformat": 4,
  "nbformat_minor": 0,
  "metadata": {
    "colab": {
      "name": "Epide_mut.ipynb",
      "provenance": [],
      "collapsed_sections": []
    },
    "kernelspec": {
      "name": "python3",
      "display_name": "Python 3"
    },
    "language_info": {
      "name": "python"
    }
  },
  "cells": [
    {
      "cell_type": "code",
      "metadata": {
        "id": "qrAv7p9AkOqA"
      },
      "source": [
        "import pandas as pd\n",
        "import numpy as np\n",
        "import matplotlib.pyplot as plt\n",
        "import matplotlib.dates as mpl_dates\n",
        "import seaborn as sns\n",
        "from datetime import datetime, timedelta\n",
        "plt.style.use(\"seaborn\")\n",
        "%matplotlib inline"
      ],
      "execution_count": null,
      "outputs": []
    },
    {
      "cell_type": "code",
      "metadata": {
        "id": "Bnqnz66JkVqb",
        "colab": {
          "base_uri": "https://localhost:8080/"
        },
        "outputId": "3a995d18-38a3-41c4-bfe3-24477f8b32c0"
      },
      "source": [
        "from google.colab import drive\n",
        "drive.mount('/content/drive')"
      ],
      "execution_count": null,
      "outputs": [
        {
          "output_type": "stream",
          "text": [
            "Mounted at /content/drive\n"
          ],
          "name": "stdout"
        }
      ]
    },
    {
      "cell_type": "code",
      "metadata": {
        "colab": {
          "base_uri": "https://localhost:8080/",
          "height": 204
        },
        "id": "7s74JX8fkYjT",
        "outputId": "83dc7cb8-8aa8-4dc5-b4e4-51b4962d7df3"
      },
      "source": [
        "#\\t\n",
        "raw_data = pd.read_csv(\"/content/drive/MyDrive/Trabajo Final/GISAID/gisaid_hcov-19_2021_08_24_19_C.37.1.tsv\",sep='\\t')\n",
        "raw_data.head()"
      ],
      "execution_count": null,
      "outputs": [
        {
          "output_type": "execute_result",
          "data": {
            "text/html": [
              "<div>\n",
              "<style scoped>\n",
              "    .dataframe tbody tr th:only-of-type {\n",
              "        vertical-align: middle;\n",
              "    }\n",
              "\n",
              "    .dataframe tbody tr th {\n",
              "        vertical-align: top;\n",
              "    }\n",
              "\n",
              "    .dataframe thead th {\n",
              "        text-align: right;\n",
              "    }\n",
              "</style>\n",
              "<table border=\"1\" class=\"dataframe\">\n",
              "  <thead>\n",
              "    <tr style=\"text-align: right;\">\n",
              "      <th></th>\n",
              "      <th>Accession ID</th>\n",
              "      <th>Collection date</th>\n",
              "      <th>Submission date</th>\n",
              "      <th>Location</th>\n",
              "    </tr>\n",
              "  </thead>\n",
              "  <tbody>\n",
              "    <tr>\n",
              "      <th>0</th>\n",
              "      <td>EPI_ISL_1111127</td>\n",
              "      <td>2021-01-18</td>\n",
              "      <td>2021-03-01</td>\n",
              "      <td>South America / Peru / Callao</td>\n",
              "    </tr>\n",
              "    <tr>\n",
              "      <th>1</th>\n",
              "      <td>EPI_ISL_1111128</td>\n",
              "      <td>2021-01-18</td>\n",
              "      <td>2021-03-01</td>\n",
              "      <td>South America / Peru / Callao</td>\n",
              "    </tr>\n",
              "    <tr>\n",
              "      <th>2</th>\n",
              "      <td>EPI_ISL_1111130</td>\n",
              "      <td>2021-01-17</td>\n",
              "      <td>2021-03-01</td>\n",
              "      <td>South America / Peru / Callao</td>\n",
              "    </tr>\n",
              "    <tr>\n",
              "      <th>3</th>\n",
              "      <td>EPI_ISL_1111284</td>\n",
              "      <td>2021-01-18</td>\n",
              "      <td>2021-03-01</td>\n",
              "      <td>South America / Peru / Lima</td>\n",
              "    </tr>\n",
              "    <tr>\n",
              "      <th>4</th>\n",
              "      <td>EPI_ISL_1111285</td>\n",
              "      <td>2021-01-18</td>\n",
              "      <td>2021-03-01</td>\n",
              "      <td>South America / Peru / Lima</td>\n",
              "    </tr>\n",
              "  </tbody>\n",
              "</table>\n",
              "</div>"
            ],
            "text/plain": [
              "      Accession ID  ...                       Location\n",
              "0  EPI_ISL_1111127  ...  South America / Peru / Callao\n",
              "1  EPI_ISL_1111128  ...  South America / Peru / Callao\n",
              "2  EPI_ISL_1111130  ...  South America / Peru / Callao\n",
              "3  EPI_ISL_1111284  ...    South America / Peru / Lima\n",
              "4  EPI_ISL_1111285  ...    South America / Peru / Lima\n",
              "\n",
              "[5 rows x 4 columns]"
            ]
          },
          "metadata": {},
          "execution_count": 9
        }
      ]
    },
    {
      "cell_type": "code",
      "metadata": {
        "colab": {
          "base_uri": "https://localhost:8080/"
        },
        "id": "CMZ9IWH5sSdd",
        "outputId": "d0e498ea-444a-4cba-a891-9e955d968701"
      },
      "source": [
        "raw_data.info()"
      ],
      "execution_count": null,
      "outputs": [
        {
          "output_type": "stream",
          "text": [
            "<class 'pandas.core.frame.DataFrame'>\n",
            "RangeIndex: 409 entries, 0 to 408\n",
            "Data columns (total 4 columns):\n",
            " #   Column           Non-Null Count  Dtype \n",
            "---  ------           --------------  ----- \n",
            " 0   Accession ID     409 non-null    object\n",
            " 1   Collection date  409 non-null    object\n",
            " 2   Submission date  409 non-null    object\n",
            " 3   Location         409 non-null    object\n",
            "dtypes: object(4)\n",
            "memory usage: 12.9+ KB\n"
          ],
          "name": "stdout"
        }
      ]
    },
    {
      "cell_type": "code",
      "metadata": {
        "colab": {
          "base_uri": "https://localhost:8080/"
        },
        "id": "-db2413HkvDV",
        "outputId": "7221ed53-6179-4b00-c482-f14caaed59f4"
      },
      "source": [
        "raw_data[\"Location\"].value_counts()"
      ],
      "execution_count": null,
      "outputs": [
        {
          "output_type": "execute_result",
          "data": {
            "text/plain": [
              "South America / Peru / Lima                                            56\n",
              "North America / Mexico / Queretaro                                     25\n",
              "South America / Chile / Region Metropolitana de Santiago / Santiago    18\n",
              "Europe / Spain / Madrid                                                15\n",
              "North America / Canada / Quebec                                        12\n",
              "                                                                       ..\n",
              "South America / Peru / San Martin                                       1\n",
              "South America / Chile / Antofagasta / Calama                            1\n",
              "South America / Argentina / Santa Fe                                    1\n",
              "Europe / Switzerland / Geneva                                           1\n",
              "North America / USA / Wisconsin / Brown County                          1\n",
              "Name: Location, Length: 156, dtype: int64"
            ]
          },
          "metadata": {},
          "execution_count": 11
        }
      ]
    },
    {
      "cell_type": "code",
      "metadata": {
        "colab": {
          "base_uri": "https://localhost:8080/"
        },
        "id": "xvXzZ9o2kvce",
        "outputId": "b56a3e04-15e7-42b9-9ee0-9578ea6b368a"
      },
      "source": [
        "location=raw_data['Location'].str.split(pat=\"/\",n=2,expand=True)\n",
        "location.columns=[\"Continent\",\"Country\",\"City\"]\n",
        "location[\"Continent\"].value_counts()\n"
      ],
      "execution_count": null,
      "outputs": [
        {
          "output_type": "execute_result",
          "data": {
            "text/plain": [
              "South America     227\n",
              "North America     124\n",
              "Europe             57\n",
              "Oceania             1\n",
              "Name: Continent, dtype: int64"
            ]
          },
          "metadata": {},
          "execution_count": 12
        }
      ]
    },
    {
      "cell_type": "code",
      "metadata": {
        "id": "cf7HXkXOvPC2",
        "colab": {
          "base_uri": "https://localhost:8080/",
          "height": 204
        },
        "outputId": "575c192a-a07e-4e06-eb89-5017c698ae47"
      },
      "source": [
        "raw_data=pd.concat([raw_data,location], axis=1)\n",
        "raw_data.head()"
      ],
      "execution_count": null,
      "outputs": [
        {
          "output_type": "execute_result",
          "data": {
            "text/html": [
              "<div>\n",
              "<style scoped>\n",
              "    .dataframe tbody tr th:only-of-type {\n",
              "        vertical-align: middle;\n",
              "    }\n",
              "\n",
              "    .dataframe tbody tr th {\n",
              "        vertical-align: top;\n",
              "    }\n",
              "\n",
              "    .dataframe thead th {\n",
              "        text-align: right;\n",
              "    }\n",
              "</style>\n",
              "<table border=\"1\" class=\"dataframe\">\n",
              "  <thead>\n",
              "    <tr style=\"text-align: right;\">\n",
              "      <th></th>\n",
              "      <th>Accession ID</th>\n",
              "      <th>Collection date</th>\n",
              "      <th>Submission date</th>\n",
              "      <th>Location</th>\n",
              "      <th>Continent</th>\n",
              "      <th>Country</th>\n",
              "      <th>City</th>\n",
              "    </tr>\n",
              "  </thead>\n",
              "  <tbody>\n",
              "    <tr>\n",
              "      <th>0</th>\n",
              "      <td>EPI_ISL_1111127</td>\n",
              "      <td>2021-01-18</td>\n",
              "      <td>2021-03-01</td>\n",
              "      <td>South America / Peru / Callao</td>\n",
              "      <td>South America</td>\n",
              "      <td>Peru</td>\n",
              "      <td>Callao</td>\n",
              "    </tr>\n",
              "    <tr>\n",
              "      <th>1</th>\n",
              "      <td>EPI_ISL_1111128</td>\n",
              "      <td>2021-01-18</td>\n",
              "      <td>2021-03-01</td>\n",
              "      <td>South America / Peru / Callao</td>\n",
              "      <td>South America</td>\n",
              "      <td>Peru</td>\n",
              "      <td>Callao</td>\n",
              "    </tr>\n",
              "    <tr>\n",
              "      <th>2</th>\n",
              "      <td>EPI_ISL_1111130</td>\n",
              "      <td>2021-01-17</td>\n",
              "      <td>2021-03-01</td>\n",
              "      <td>South America / Peru / Callao</td>\n",
              "      <td>South America</td>\n",
              "      <td>Peru</td>\n",
              "      <td>Callao</td>\n",
              "    </tr>\n",
              "    <tr>\n",
              "      <th>3</th>\n",
              "      <td>EPI_ISL_1111284</td>\n",
              "      <td>2021-01-18</td>\n",
              "      <td>2021-03-01</td>\n",
              "      <td>South America / Peru / Lima</td>\n",
              "      <td>South America</td>\n",
              "      <td>Peru</td>\n",
              "      <td>Lima</td>\n",
              "    </tr>\n",
              "    <tr>\n",
              "      <th>4</th>\n",
              "      <td>EPI_ISL_1111285</td>\n",
              "      <td>2021-01-18</td>\n",
              "      <td>2021-03-01</td>\n",
              "      <td>South America / Peru / Lima</td>\n",
              "      <td>South America</td>\n",
              "      <td>Peru</td>\n",
              "      <td>Lima</td>\n",
              "    </tr>\n",
              "  </tbody>\n",
              "</table>\n",
              "</div>"
            ],
            "text/plain": [
              "      Accession ID Collection date  ... Country     City\n",
              "0  EPI_ISL_1111127      2021-01-18  ...   Peru    Callao\n",
              "1  EPI_ISL_1111128      2021-01-18  ...   Peru    Callao\n",
              "2  EPI_ISL_1111130      2021-01-17  ...   Peru    Callao\n",
              "3  EPI_ISL_1111284      2021-01-18  ...   Peru      Lima\n",
              "4  EPI_ISL_1111285      2021-01-18  ...   Peru      Lima\n",
              "\n",
              "[5 rows x 7 columns]"
            ]
          },
          "metadata": {},
          "execution_count": 13
        }
      ]
    },
    {
      "cell_type": "code",
      "metadata": {
        "colab": {
          "base_uri": "https://localhost:8080/"
        },
        "id": "UWjeRhp4Voiy",
        "outputId": "fccef9a5-8e4d-4253-e785-c7c78e396aa4"
      },
      "source": [
        "raw_data.shape"
      ],
      "execution_count": null,
      "outputs": [
        {
          "output_type": "execute_result",
          "data": {
            "text/plain": [
              "(409, 7)"
            ]
          },
          "metadata": {},
          "execution_count": 14
        }
      ]
    },
    {
      "cell_type": "code",
      "metadata": {
        "colab": {
          "base_uri": "https://localhost:8080/"
        },
        "id": "Qnv29DaHNiiu",
        "outputId": "236dd0b5-d083-4b1b-d8fa-6cb50a1feaa4"
      },
      "source": [
        "raw_data['Continent'].value_counts()"
      ],
      "execution_count": null,
      "outputs": [
        {
          "output_type": "execute_result",
          "data": {
            "text/plain": [
              "South America     227\n",
              "North America     124\n",
              "Europe             57\n",
              "Oceania             1\n",
              "Name: Continent, dtype: int64"
            ]
          },
          "metadata": {},
          "execution_count": 10
        }
      ]
    },
    {
      "cell_type": "code",
      "metadata": {
        "id": "ZyuYJVtiu00S"
      },
      "source": [
        "# Separamos la data por un determinado pais. En este caso elegimos Peru y Chile \n",
        "# por presentar la mayor frecuencia de aparicion de aparicion de la variante C.37\n",
        "raw_peru=raw_data[raw_data['Country']==raw_data.iloc[0,5]]\n",
        "raw_chile=raw_data[raw_data['Country']==raw_data.iloc[404,5]]"
      ],
      "execution_count": null,
      "outputs": []
    },
    {
      "cell_type": "code",
      "metadata": {
        "colab": {
          "base_uri": "https://localhost:8080/",
          "height": 285
        },
        "id": "gqhMOZhu5_Tz",
        "outputId": "f18c8788-a030-4e44-a414-8543a09e296a"
      },
      "source": [
        "# Hacemos el preprocesamiento para a la data de Peru para poder hacer el grafico\n",
        "raw_peru['Collection date']=pd.to_datetime(raw_peru['Collection date'])\n",
        "raw_peru=raw_peru.sort_values(by=['Collection date'])\n",
        "xpe_values=raw_peru['Collection date'].unique()\n",
        "ype_values=raw_peru['Collection date'].value_counts().sort_index()\n",
        "\n",
        "# Con el objetivo de mostrar un grafico acumulativo de aparicion de la C.37. \n",
        "# Sumamos los casos previos hasta una determinada fecha. Por tanto en el grafico\n",
        "# cada punto representa la totalidad de aparicion de la C.37 hasta la correspondiente fecha\n",
        "j=0\n",
        "for i in range(len(ype_values)-1):\n",
        "   ype_values[j+1]=ype_values[i+1]+ype_values[i]\n",
        "   j=j+1\n",
        "\n",
        "# Realizamos el correspondiente plot.\n",
        "pe=plt.plot_date(xpe_values,ype_values,\"-r\", label=\"Peru\", linestyle=\"solid\")\n",
        "plt.legend(loc=\"upper left\")"
      ],
      "execution_count": null,
      "outputs": [
        {
          "output_type": "execute_result",
          "data": {
            "text/plain": [
              "<matplotlib.legend.Legend at 0x7ff1a9fd9290>"
            ]
          },
          "metadata": {},
          "execution_count": 18
        },
        {
          "output_type": "display_data",
          "data": {
            "image/png": "[encoded data removed]",
            "text/plain": [
              "<Figure size 432x288 with 1 Axes>"
            ]
          },
          "metadata": {
            "needs_background": "light"
          }
        }
      ]
    },
    {
      "cell_type": "code",
      "metadata": {
        "colab": {
          "base_uri": "https://localhost:8080/",
          "height": 405
        },
        "id": "xysjEseb76ec",
        "outputId": "c417db68-741f-401a-bb0b-e37c3df4a76f"
      },
      "source": [
        "# Hacemos el preprocesamiento para a la data de Chile para poder hacer el grafico\n",
        "raw_chile['Collection date']=pd.to_datetime(raw_chile['Collection date'])\n",
        "raw_chile=raw_chile.sort_values(by=['Collection date'])\n",
        "xchi_values=raw_chile['Collection date'].unique()\n",
        "ychi_values=raw_chile['Collection date'].value_counts().sort_index()\n",
        "\n",
        "# Con el objetivo de mostrar un grafico acumulativo de aparicion de la C.37. \n",
        "# Sumamos los casos previos hasta una determinada fecha. Por tanto en el grafico\n",
        "# cada punto representa la totalidad de aparicion de la C.37 hasta la correspondiente fecha\n",
        "j=0\n",
        "for i in range(len(ychi_values)-1):\n",
        "   ychi_values[j+1]=ychi_values[i+1]+ychi_values[i]\n",
        "   j=j+1\n",
        "# Realizamos el correspondiente plot.\n",
        "chi=plt.plot_date(xchi_values,ychi_values,\"-r\", label=\"Chile\", linestyle=\"solid\")\n",
        "plt.legend(loc=\"upper left\")"
      ],
      "execution_count": null,
      "outputs": [
        {
          "output_type": "stream",
          "text": [
            "/usr/local/lib/python3.7/dist-packages/ipykernel_launcher.py:2: SettingWithCopyWarning: \n",
            "A value is trying to be set on a copy of a slice from a DataFrame.\n",
            "Try using .loc[row_indexer,col_indexer] = value instead\n",
            "\n",
            "See the caveats in the documentation: https://pandas.pydata.org/pandas-docs/stable/user_guide/indexing.html#returning-a-view-versus-a-copy\n",
            "  \n"
          ],
          "name": "stderr"
        },
        {
          "output_type": "execute_result",
          "data": {
            "text/plain": [
              "<matplotlib.legend.Legend at 0x7ff1a9cfa890>"
            ]
          },
          "metadata": {},
          "execution_count": 19
        },
        {
          "output_type": "display_data",
          "data": {
            "image/png": "[encoded data removed]",
            "text/plain": [
              "<Figure size 432x288 with 1 Axes>"
            ]
          },
          "metadata": {
            "needs_background": "light"
          }
        }
      ]
    },
    {
      "cell_type": "code",
      "metadata": {
        "colab": {
          "base_uri": "https://localhost:8080/",
          "height": 266
        },
        "id": "r6UdDv1dLmQG",
        "outputId": "bf5b312f-a2a2-4d1a-e05d-fc8fe6d733ba"
      },
      "source": [
        "# Data de Peru y Chile en un mismo grafico\n",
        "fig, ax = plt.subplots()\n",
        "ax.plot(xpe_values, ype_values,\"-r\", label=\"Peru\")\n",
        "ax.plot(xchi_values, ychi_values,\"-b\", label=\"Chile\")\n",
        "plt.legend(loc=\"upper left\")\n",
        "#plt.ylim(-1.5, 2.0)\n",
        "plt.show()"
      ],
      "execution_count": null,
      "outputs": [
        {
          "output_type": "display_data",
          "data": {
            "image/png": "[encoded data removed]",
            "text/plain": [
              "<Figure size 432x288 with 1 Axes>"
            ]
          },
          "metadata": {
            "needs_background": "light"
          }
        }
      ]
    },
    {
      "cell_type": "code",
      "metadata": {
        "colab": {
          "base_uri": "https://localhost:8080/",
          "height": 404
        },
        "id": "gUB7peP9Ns2l",
        "outputId": "eb25ba92-5381-44a0-8ad1-70ab8343ba0b"
      },
      "source": [
        "# Hacemos el preprocesamiento para a la data de America del Sur para poder hacer el grafico\n",
        "raw_south=raw_data[raw_data['Continent']==raw_data.iloc[0,4]]\n",
        "raw_south['Collection date']=pd.to_datetime(raw_south['Collection date'])\n",
        "raw_south=raw_south.sort_values(by=['Collection date'])\n",
        "xsouth_values=raw_south['Collection date'].unique()\n",
        "ysouth_values=raw_south['Collection date'].value_counts().sort_index()\n",
        "\n",
        "j=0\n",
        "for i in range(len(ysouth_values)-1):\n",
        "   ysouth_values[j+1]=ysouth_values[i+1]+ysouth_values[i]\n",
        "   j=j+1\n",
        "\n",
        "plt.plot_date(xsouth_values,ysouth_values,\"-r\", label=\"South America\", linestyle=\"solid\")\n",
        "plt.legend(loc=\"upper left\")"
      ],
      "execution_count": null,
      "outputs": [
        {
          "output_type": "stream",
          "text": [
            "/usr/local/lib/python3.7/dist-packages/ipykernel_launcher.py:3: SettingWithCopyWarning: \n",
            "A value is trying to be set on a copy of a slice from a DataFrame.\n",
            "Try using .loc[row_indexer,col_indexer] = value instead\n",
            "\n",
            "See the caveats in the documentation: https://pandas.pydata.org/pandas-docs/stable/user_guide/indexing.html#returning-a-view-versus-a-copy\n",
            "  This is separate from the ipykernel package so we can avoid doing imports until\n"
          ],
          "name": "stderr"
        },
        {
          "output_type": "execute_result",
          "data": {
            "text/plain": [
              "<matplotlib.legend.Legend at 0x7ff1a97caf10>"
            ]
          },
          "metadata": {},
          "execution_count": 21
        },
        {
          "output_type": "display_data",
          "data": {
            "image/png": "[encoded data removed]",
            "text/plain": [
              "<Figure size 432x288 with 1 Axes>"
            ]
          },
          "metadata": {
            "needs_background": "light"
          }
        }
      ]
    },
    {
      "cell_type": "code",
      "metadata": {
        "colab": {
          "base_uri": "https://localhost:8080/",
          "height": 404
        },
        "id": "oW8xbVvQXCnI",
        "outputId": "04a2b3f0-db85-417f-b718-34a74881e56a"
      },
      "source": [
        "# Hacemos el preprocesamiento para a la data de America del Norte para poder hacer el grafico\n",
        "raw_north=raw_data[raw_data['Continent']==raw_data.iloc[308,4]]\n",
        "raw_north['Collection date']=pd.to_datetime(raw_north['Collection date'])\n",
        "raw_north=raw_north.sort_values(by=['Collection date'])\n",
        "xnorth_values=raw_north['Collection date'].unique()\n",
        "ynorth_values=raw_north['Collection date'].value_counts().sort_index()\n",
        "j=0\n",
        "for i in range(len(ynorth_values)-1):\n",
        "   ynorth_values[j+1]=ynorth_values[i+1]+ynorth_values[i]\n",
        "   j=j+1\n",
        "ynorth_values\n",
        "north=plt.plot_date(xnorth_values,ynorth_values,\"-r\", label=\"North America\", linestyle=\"solid\")\n",
        "plt.legend(loc=\"upper left\")"
      ],
      "execution_count": null,
      "outputs": [
        {
          "output_type": "stream",
          "text": [
            "/usr/local/lib/python3.7/dist-packages/ipykernel_launcher.py:3: SettingWithCopyWarning: \n",
            "A value is trying to be set on a copy of a slice from a DataFrame.\n",
            "Try using .loc[row_indexer,col_indexer] = value instead\n",
            "\n",
            "See the caveats in the documentation: https://pandas.pydata.org/pandas-docs/stable/user_guide/indexing.html#returning-a-view-versus-a-copy\n",
            "  This is separate from the ipykernel package so we can avoid doing imports until\n"
          ],
          "name": "stderr"
        },
        {
          "output_type": "execute_result",
          "data": {
            "text/plain": [
              "<matplotlib.legend.Legend at 0x7ff1a9728dd0>"
            ]
          },
          "metadata": {},
          "execution_count": 22
        },
        {
          "output_type": "display_data",
          "data": {
            "image/png": "[encoded data removed]",
            "text/plain": [
              "<Figure size 432x288 with 1 Axes>"
            ]
          },
          "metadata": {
            "needs_background": "light"
          }
        }
      ]
    },
    {
      "cell_type": "code",
      "metadata": {
        "colab": {
          "base_uri": "https://localhost:8080/",
          "height": 404
        },
        "id": "mVduU_w8ZUpp",
        "outputId": "e1e9bcbf-50a5-495c-f3e3-245069a65609"
      },
      "source": [
        "#  Hacemos el preprocesamiento para a la data de Europa para poder hacer el grafico\n",
        "raw_europe=raw_data[raw_data['Continent']==raw_data.iloc[98,4]]\n",
        "raw_europe['Collection date']=pd.to_datetime(raw_europe['Collection date'])\n",
        "raw_europe=raw_europe.sort_values(by=['Collection date'])\n",
        "xeurope_values=raw_europe['Collection date'].unique()\n",
        "yeurope_values=raw_europe['Collection date'].value_counts().sort_index()\n",
        "j=0\n",
        "for i in range(len(yeurope_values)-1):\n",
        "   yeurope_values[j+1]=yeurope_values[i+1]+yeurope_values[i]\n",
        "   j=j+1\n",
        "yeurope_values\n",
        "europe=plt.plot_date(xeurope_values,yeurope_values,\"-r\", label=\"Europe\", linestyle=\"solid\")\n",
        "plt.legend(loc=\"upper left\")"
      ],
      "execution_count": null,
      "outputs": [
        {
          "output_type": "stream",
          "text": [
            "/usr/local/lib/python3.7/dist-packages/ipykernel_launcher.py:3: SettingWithCopyWarning: \n",
            "A value is trying to be set on a copy of a slice from a DataFrame.\n",
            "Try using .loc[row_indexer,col_indexer] = value instead\n",
            "\n",
            "See the caveats in the documentation: https://pandas.pydata.org/pandas-docs/stable/user_guide/indexing.html#returning-a-view-versus-a-copy\n",
            "  This is separate from the ipykernel package so we can avoid doing imports until\n"
          ],
          "name": "stderr"
        },
        {
          "output_type": "execute_result",
          "data": {
            "text/plain": [
              "<matplotlib.legend.Legend at 0x7ff1a97283d0>"
            ]
          },
          "metadata": {},
          "execution_count": 23
        },
        {
          "output_type": "display_data",
          "data": {
            "image/png": "[encoded data removed]",
            "text/plain": [
              "<Figure size 432x288 with 1 Axes>"
            ]
          },
          "metadata": {
            "needs_background": "light"
          }
        }
      ]
    },
    {
      "cell_type": "code",
      "metadata": {
        "colab": {
          "base_uri": "https://localhost:8080/",
          "height": 265
        },
        "id": "LcdbCk9aY5Qp",
        "outputId": "c009fb66-455c-4da9-dd90-5a55e88bcad8"
      },
      "source": [
        "# Data de data de America y Europa en un mismo grafico\n",
        "fig, ax = plt.subplots()\n",
        "\n",
        "ax.plot(xsouth_values, ysouth_values,\"-r\", label=\"South America\")\n",
        "ax.plot(xnorth_values, ynorth_values,\"-b\", label=\"North America\")\n",
        "ax.plot(xeurope_values,yeurope_values,\"-g\", label=\"Europe\")\n",
        "plt.legend(loc=\"upper left\")\n",
        "plt.show()"
      ],
      "execution_count": null,
      "outputs": [
        {
          "output_type": "display_data",
          "data": {
            "image/png": "[encoded data removed]",
            "text/plain": [
              "<Figure size 432x288 with 1 Axes>"
            ]
          },
          "metadata": {
            "needs_background": "light"
          }
        }
      ]
    }
  ]
}